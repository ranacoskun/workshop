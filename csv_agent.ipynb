{
  "nbformat": 4,
  "nbformat_minor": 0,
  "metadata": {
    "colab": {
      "provenance": []
    },
    "kernelspec": {
      "name": "python3",
      "display_name": "Python 3"
    },
    "language_info": {
      "name": "python"
    }
  },
  "cells": [
    {
      "cell_type": "markdown",
      "source": [
        "# CSV Agent with Langchain\n",
        "\n",
        "Create a chain using the `create_csv_agent` tool from Langchain toolkits to read and retrieve data from CSV files.\n",
        "The agent uses `pandas` library to analyse data.\n"
      ],
      "metadata": {
        "id": "TDJd9f3YThH3"
      }
    },
    {
      "cell_type": "code",
      "execution_count": null,
      "metadata": {
        "id": "aZWwpqaEQ4Up"
      },
      "outputs": [],
      "source": [
        "import os\n",
        "\n",
        "from langchain_community.llms import LlamaCpp, Ollama\n",
        "from langchain_core.callbacks import CallbackManager, StreamingStdOutCallbackHandler\n",
        "from langchain_experimental.agents.agent_toolkits import create_csv_agent\n",
        "from langchain_openai import ChatOpenAI, OpenAI"
      ]
    },
    {
      "cell_type": "code",
      "source": [
        "callback_manager = CallbackManager([StreamingStdOutCallbackHandler()])"
      ],
      "metadata": {
        "id": "uQnLtaCiTeKG"
      },
      "execution_count": null,
      "outputs": []
    },
    {
      "cell_type": "code",
      "source": [
        "# model - OPENAI\n",
        "\n",
        "os.environ['OPENAI_API_KEY'] = 'OPENAI_API_KEY'\n",
        "model = ChatOpenAI(model=\"gpt-3.5-turbo-0613\", callback_manager=callback_manager)\n",
        "llm = OpenAI(temperature=0)"
      ],
      "metadata": {
        "id": "G_9t1FqqUQR0"
      },
      "execution_count": null,
      "outputs": []
    },
    {
      "cell_type": "code",
      "source": [
        "# model - ollama Llama3\n",
        "\n",
        "# llm = Ollama(\n",
        "#     model = 'llama3',\n",
        "#     callback_manager = callback_manager,\n",
        "#     verbose=False\n",
        "#     )"
      ],
      "metadata": {
        "id": "1ohlzxVmUcCt"
      },
      "execution_count": null,
      "outputs": []
    },
    {
      "cell_type": "code",
      "source": [
        "# model - local Llama3\n",
        "# llm = LlamaCpp(\n",
        "#     model_path=\"models/Meta-Llama-3-8B-Instruct.Q4_K_M.gguf\",\n",
        "#     n_gpu_layers=1,\n",
        "#     callback_manager=callback_manager,\n",
        "#     verbose=False,\n",
        "#     n_ctx = 2048\n",
        "# )"
      ],
      "metadata": {
        "id": "XvlsExwtUf4j"
      },
      "execution_count": null,
      "outputs": []
    },
    {
      "cell_type": "code",
      "source": [
        "file = \"data/customer_support_tickets.csv\""
      ],
      "metadata": {
        "id": "7tGEu8Y8UiGV"
      },
      "execution_count": null,
      "outputs": []
    },
    {
      "cell_type": "code",
      "source": [
        "# create agent\n",
        "agent = create_csv_agent(llm, file,  verbose=False)"
      ],
      "metadata": {
        "id": "2KQo8noyUnRz"
      },
      "execution_count": null,
      "outputs": []
    },
    {
      "cell_type": "code",
      "source": [
        "# run the queries\n",
        "agent.run(\"How many tickets are dated 13 nov 2020?\")\n",
        "agent.run(\"how many customers are under 10 years old?\")\n",
        "agent.run(\"consider the ticket types Technical issue and Refund request. What is the percentage of customers that are female?\")\n",
        "agent.run(\"What is the percentage of customers that contacted us via social media?\")\n",
        "agent.run(\"What is the percentage of customers that used social media a channel?\")"
      ],
      "metadata": {
        "id": "oLjhuNLLUkrU"
      },
      "execution_count": null,
      "outputs": []
    }
  ]
}