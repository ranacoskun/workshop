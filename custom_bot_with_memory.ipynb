{
  "nbformat": 4,
  "nbformat_minor": 0,
  "metadata": {
    "colab": {
      "provenance": []
    },
    "kernelspec": {
      "name": "python3",
      "display_name": "Python 3"
    },
    "language_info": {
      "name": "python"
    }
  },
  "cells": [
    {
      "cell_type": "markdown",
      "source": [
        "# Local travel support chatbot with memory\n",
        "\n",
        "Create a customer support chatbot for a travel agency with memory\n"
      ],
      "metadata": {
        "id": "TG7kGBSXlmDZ"
      }
    },
    {
      "cell_type": "code",
      "execution_count": null,
      "metadata": {
        "id": "bjBbG-wpkeBH"
      },
      "outputs": [],
      "source": [
        "callback_manager = CallbackManager([StreamingStdOutCallbackHandler()])"
      ]
    },
    {
      "cell_type": "code",
      "source": [
        "embeddings = HuggingFaceEmbeddings(\n",
        "    model_name=\"embaas/sentence-transformers-multilingual-e5-base\")"
      ],
      "metadata": {
        "id": "SW6jb5IQkpr3"
      },
      "execution_count": null,
      "outputs": []
    },
    {
      "cell_type": "code",
      "source": [
        "loader = DirectoryLoader(\"faq/\", glob=\"**/*txt\")\n",
        "documents = loader.load()"
      ],
      "metadata": {
        "id": "Y3SP1Xidksjq"
      },
      "execution_count": null,
      "outputs": []
    },
    {
      "cell_type": "code",
      "source": [
        "text_splitter = CharacterTextSplitter(chunk_size=512, chunk_overlap=0)\n",
        "texts = text_splitter.split_documents(documents)"
      ],
      "metadata": {
        "id": "2pur6bm4kxzm"
      },
      "execution_count": null,
      "outputs": []
    },
    {
      "cell_type": "code",
      "source": [
        "vectorStore = Chroma.from_documents(texts, embeddings)"
      ],
      "metadata": {
        "id": "Wjf68r8MlF7J"
      },
      "execution_count": null,
      "outputs": []
    },
    {
      "cell_type": "code",
      "source": [
        "template = \"\"\"\n",
        "### Instruction: You're a travelling support agent that is talking to a customer.\n",
        "\n",
        "Use only the chat history and the following information\n",
        "{context}\n",
        "to answer in a helpful manner to the question.  If you don't know the answer -\n",
        "say that you don't know. Keep your replies short, compassionate and informative.\n",
        "{chat_history}\n",
        "### Input: {question}\n",
        "### Response:\n",
        "\"\"\".strip()"
      ],
      "metadata": {
        "id": "AUMfQXqek0y5"
      },
      "execution_count": null,
      "outputs": []
    },
    {
      "cell_type": "code",
      "source": [
        "prompt = PromptTemplate(\n",
        "    input_variables=[ \"context\", \"question\", \"chat_history\"], template=template\n",
        ")"
      ],
      "metadata": {
        "id": "cIdNGsckk3NG"
      },
      "execution_count": null,
      "outputs": []
    },
    {
      "cell_type": "code",
      "source": [
        "memory = ConversationBufferMemory(\n",
        "    memory_key=\"chat_history\",\n",
        "    human_prefix=\"### Input\",\n",
        "    ai_prefix=\"### Response\",\n",
        "    input_key=\"question\",\n",
        "    output_key=\"output_text\",\n",
        "    return_messages=False,\n",
        ")"
      ],
      "metadata": {
        "id": "I8UQJfmlk5O9"
      },
      "execution_count": null,
      "outputs": []
    },
    {
      "cell_type": "code",
      "source": [
        "llm = LlamaCpp(\n",
        "    model_path=\"models/llama-2-7b-chat.Q4_K_M.gguf\",\n",
        "    n_gpu_layers=1,\n",
        "    max_tokens=512,\n",
        "    callback_manager=callback_manager,\n",
        "    verbose=False,\n",
        ")"
      ],
      "metadata": {
        "id": "l_ohpq-9km6W"
      },
      "execution_count": null,
      "outputs": []
    },
    {
      "cell_type": "code",
      "source": [
        "chain = load_qa_chain(\n",
        "    llm, chain_type=\"stuff\", prompt=prompt, memory=memory, verbose=False\n",
        ")"
      ],
      "metadata": {
        "id": "SMX4jjWwk9XU"
      },
      "execution_count": null,
      "outputs": []
    },
    {
      "cell_type": "code",
      "source": [
        "while True:\n",
        "    user_input = input(\"You: \")\n",
        "    if user_input.lower() in [\"bye\", \"goodbye\"]:\n",
        "        break\n",
        "    docs = vectorStore.similarity_search(user_input)\n",
        "    answer = chain({\"input_documents\": docs, \"question\": user_input})\n",
        "    print(answer)"
      ],
      "metadata": {
        "id": "oXr1Ch82k_Qd"
      },
      "execution_count": null,
      "outputs": []
    }
  ]
}